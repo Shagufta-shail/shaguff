{
  "nbformat": 4,
  "nbformat_minor": 0,
  "metadata": {
    "colab": {
      "name": "Copy of Untitled5.ipynb",
      "provenance": [],
      "collapsed_sections": [],
      "authorship_tag": "ABX9TyO87MkcJsrSF7DFL7heKByI",
      "include_colab_link": true
    },
    "kernelspec": {
      "name": "python3",
      "display_name": "Python 3"
    }
  },
  "cells": [
    {
      "cell_type": "markdown",
      "metadata": {
        "id": "view-in-github",
        "colab_type": "text"
      },
      "source": [
        "<a href=\"https://colab.research.google.com/github/Shagufta-shail/shaguff/blob/master/Copy_of_Untitled5.ipynb\" target=\"_parent\"><img src=\"https://colab.research.google.com/assets/colab-badge.svg\" alt=\"Open In Colab\"/></a>"
      ]
    },
    {
      "cell_type": "code",
      "metadata": {
        "id": "eeWJGA7kc_74",
        "colab_type": "code",
        "colab": {
          "base_uri": "https://localhost:8080/",
          "height": 54
        },
        "outputId": "b4f23680-7b68-4b49-fcb6-a03e0ce3a195"
      },
      "source": [
        "\n",
        "\n",
        "\n",
        "from profanity_check import predict,predict_prob\n",
        "a=predict([\"rank\"])\n",
        "print(\"amount of badwords in a string\",a)\n",
        "b=predict_prob([\"rag\"])\n",
        "print(\"percentage of badword in the string\",b)\n"
      ],
      "execution_count": 9,
      "outputs": [
        {
          "output_type": "stream",
          "text": [
            "amount of badwords in a string [0]\n",
            "percentage of badword in the string [0.16104114]\n"
          ],
          "name": "stdout"
        }
      ]
    }
  ]
}